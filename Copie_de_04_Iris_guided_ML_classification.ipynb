{
  "nbformat": 4,
  "nbformat_minor": 0,
  "metadata": {
    "kernelspec": {
      "display_name": "Python 3",
      "language": "python",
      "name": "python3"
    },
    "language_info": {
      "codemirror_mode": {
        "name": "ipython",
        "version": 3
      },
      "file_extension": ".py",
      "mimetype": "text/x-python",
      "name": "python",
      "nbconvert_exporter": "python",
      "pygments_lexer": "ipython3",
      "version": "3.7.3"
    },
    "colab": {
      "name": "Copie de 04_Iris_guided_ML_classification.ipynb",
      "provenance": [],
      "include_colab_link": true
    }
  },
  "cells": [
    {
      "cell_type": "markdown",
      "metadata": {
        "id": "view-in-github",
        "colab_type": "text"
      },
      "source": [
        "<a href=\"https://colab.research.google.com/github/CorentinMinne/epitech_ai/blob/master/Copie_de_04_Iris_guided_ML_classification.ipynb\" target=\"_parent\"><img src=\"https://colab.research.google.com/assets/colab-badge.svg\" alt=\"Open In Colab\"/></a>"
      ]
    },
    {
      "cell_type": "markdown",
      "metadata": {
        "id": "4j7T-cElUyme",
        "colab_type": "text"
      },
      "source": [
        "<!--NAVIGATION-->\n",
        "\n",
        "<a href=\"https://colab.research.google.com/github/bpesquet/machine-learning-katas/blob/master/classic-datasets/Iris.ipynb\"><img align=\"left\" src=\"https://colab.research.google.com/assets/colab-badge.svg\" alt=\"Open in Colab\" title=\"Open in Google Colaboratory\"></a>"
      ]
    },
    {
      "cell_type": "markdown",
      "metadata": {
        "id": "m3CfOx3HUymh",
        "colab_type": "text"
      },
      "source": [
        "# Guided ML With The Iris Dataset\n",
        "\n",
        "| Learning type | Activity type | Objective |\n",
        "| - | - | - |\n",
        "| Supervised | Multiclass classification | Identify a flower's class |\n",
        "\n",
        "Contents:\n",
        "1. Loading the data\n",
        "2. Setting up supervised learning problem (selecting features)\n",
        "3. Creating a first model\n",
        "    - Creating train and test datasets\n",
        "    - Normalizing train and test\n",
        "    - Fitting and predicting\n",
        "4. Evaluate the frist model predictions\n",
        "5. Crossvalidation of the model\n",
        "6. Creating an end to end ML pipeline\n",
        "    - Train/Test Split\n",
        "    - Normalize\n",
        "    - Crossvalidations\n",
        "    - Model\n",
        "    - fitting and predicting"
      ]
    },
    {
      "cell_type": "markdown",
      "metadata": {
        "id": "pBZBv2mBUymj",
        "colab_type": "text"
      },
      "source": [
        "## Instructions with NBGrader removed\n",
        "\n",
        "Complete the cells beginning with `# YOUR CODE HERE` and run the subsequent cells to check your code."
      ]
    },
    {
      "cell_type": "markdown",
      "metadata": {
        "id": "JOjY6sZVUymk",
        "colab_type": "text"
      },
      "source": [
        "## About the dataset\n",
        "\n",
        "[Iris](https://archive.ics.uci.edu/ml/datasets/iris) is a well-known multiclass dataset. It contains 3 classes of flowers with 50 examples each. There are a total of 4 features for each flower.\n",
        "\n",
        "![](https://github.com/jcllobet/epitech/blob/master/02_Machine_Learning/03_Intro_to_ML/exercises/classic-datasets/images/Iris-versicolor-21_1.jpg?raw=1)"
      ]
    },
    {
      "cell_type": "markdown",
      "metadata": {
        "id": "TbfhkbgdUyml",
        "colab_type": "text"
      },
      "source": [
        "# Sanity Check\n",
        "In case you are not in the right anaconda environ"
      ]
    },
    {
      "cell_type": "code",
      "metadata": {
        "id": "3Gm9kbM_Uymn",
        "colab_type": "code",
        "outputId": "a87b5150-fcd8-435e-fc0e-61d6f233bcba",
        "colab": {
          "base_uri": "https://localhost:8080/",
          "height": 34
        }
      },
      "source": [
        "#to debug package errors\n",
        "import sys\n",
        "sys.path\n",
        "sys.executable"
      ],
      "execution_count": 0,
      "outputs": [
        {
          "output_type": "execute_result",
          "data": {
            "text/plain": [
              "'/usr/bin/python3'"
            ]
          },
          "metadata": {
            "tags": []
          },
          "execution_count": 1
        }
      ]
    },
    {
      "cell_type": "markdown",
      "metadata": {
        "id": "tUFcKZ0KUyms",
        "colab_type": "text"
      },
      "source": [
        "## Package setups\n",
        "\n",
        "1. Run the following two cells to initalize the required libraries. "
      ]
    },
    {
      "cell_type": "code",
      "metadata": {
        "id": "OvWNN0zJUymt",
        "colab_type": "code",
        "colab": {}
      },
      "source": [
        "# Import needed packages\n",
        "# You may add or remove packages should you need them\n",
        "import numpy as np\n",
        "import matplotlib\n",
        "import matplotlib.pyplot as plt\n",
        "import seaborn as sns\n",
        "import pandas as pd\n",
        "from sklearn import datasets\n",
        "from sklearn import preprocessing\n",
        "from sklearn.linear_model import LogisticRegression\n",
        "from sklearn.model_selection import train_test_split, cross_validate\n",
        "from sklearn.pipeline import make_pipeline\n",
        "\n",
        "# Set random seed\n",
        "np.random.seed(0)\n",
        "\n",
        "# Display plots inline and change plot resolution to retina\n",
        "%matplotlib inline\n",
        "%config InlineBackend.figure_format = 'retina'\n",
        "# Set Seaborn aesthetic parameters to defaults\n",
        "sns.set()"
      ],
      "execution_count": 0,
      "outputs": []
    },
    {
      "cell_type": "code",
      "metadata": {
        "id": "7mFa-IazUymy",
        "colab_type": "code",
        "colab": {}
      },
      "source": [
        ""
      ],
      "execution_count": 0,
      "outputs": []
    },
    {
      "cell_type": "markdown",
      "metadata": {
        "id": "qeJCGTmDUym2",
        "colab_type": "text"
      },
      "source": [
        "## Step 1: Loading the data\n",
        "\n",
        "1. Load the iris dataset using ```datasets.load_iris()```\n",
        "2. Investigate the data structure with ```.keys()```\n",
        "3. Construct a dataframe from the dataset\n",
        "4. Create a 'target' and a 'class' column that contains the target names and values\n",
        "5. Display a random sample of the dataframe "
      ]
    },
    {
      "cell_type": "code",
      "metadata": {
        "id": "JRXDcz1sUym3",
        "colab_type": "code",
        "outputId": "665ae0bb-9d79-4147-8f14-9ce08bb1ec2b",
        "colab": {
          "base_uri": "https://localhost:8080/",
          "height": 34
        }
      },
      "source": [
        "#Your code here.\n",
        "iris = datasets.load_iris()\n",
        "iris.keys()"
      ],
      "execution_count": 3,
      "outputs": [
        {
          "output_type": "execute_result",
          "data": {
            "text/plain": [
              "dict_keys(['data', 'target', 'target_names', 'DESCR', 'feature_names', 'filename'])"
            ]
          },
          "metadata": {
            "tags": []
          },
          "execution_count": 3
        }
      ]
    },
    {
      "cell_type": "code",
      "metadata": {
        "id": "4n3OPAQJUym7",
        "colab_type": "code",
        "outputId": "25071ca1-5002-4151-aa35-2b0a8df5fe35",
        "colab": {
          "base_uri": "https://localhost:8080/",
          "height": 359
        }
      },
      "source": [
        "#your code here\n",
        "df = pd.DataFrame(iris.data, columns=iris.feature_names)\n",
        "df['target'] = iris['target'].copy()\n",
        "df['class'] = iris['target_names'][iris['target']]\n",
        "df.sample(n=10)"
      ],
      "execution_count": 4,
      "outputs": [
        {
          "output_type": "execute_result",
          "data": {
            "text/html": [
              "<div>\n",
              "<style scoped>\n",
              "    .dataframe tbody tr th:only-of-type {\n",
              "        vertical-align: middle;\n",
              "    }\n",
              "\n",
              "    .dataframe tbody tr th {\n",
              "        vertical-align: top;\n",
              "    }\n",
              "\n",
              "    .dataframe thead th {\n",
              "        text-align: right;\n",
              "    }\n",
              "</style>\n",
              "<table border=\"1\" class=\"dataframe\">\n",
              "  <thead>\n",
              "    <tr style=\"text-align: right;\">\n",
              "      <th></th>\n",
              "      <th>sepal length (cm)</th>\n",
              "      <th>sepal width (cm)</th>\n",
              "      <th>petal length (cm)</th>\n",
              "      <th>petal width (cm)</th>\n",
              "      <th>target</th>\n",
              "      <th>class</th>\n",
              "    </tr>\n",
              "  </thead>\n",
              "  <tbody>\n",
              "    <tr>\n",
              "      <th>114</th>\n",
              "      <td>5.8</td>\n",
              "      <td>2.8</td>\n",
              "      <td>5.1</td>\n",
              "      <td>2.4</td>\n",
              "      <td>2</td>\n",
              "      <td>virginica</td>\n",
              "    </tr>\n",
              "    <tr>\n",
              "      <th>62</th>\n",
              "      <td>6.0</td>\n",
              "      <td>2.2</td>\n",
              "      <td>4.0</td>\n",
              "      <td>1.0</td>\n",
              "      <td>1</td>\n",
              "      <td>versicolor</td>\n",
              "    </tr>\n",
              "    <tr>\n",
              "      <th>33</th>\n",
              "      <td>5.5</td>\n",
              "      <td>4.2</td>\n",
              "      <td>1.4</td>\n",
              "      <td>0.2</td>\n",
              "      <td>0</td>\n",
              "      <td>setosa</td>\n",
              "    </tr>\n",
              "    <tr>\n",
              "      <th>107</th>\n",
              "      <td>7.3</td>\n",
              "      <td>2.9</td>\n",
              "      <td>6.3</td>\n",
              "      <td>1.8</td>\n",
              "      <td>2</td>\n",
              "      <td>virginica</td>\n",
              "    </tr>\n",
              "    <tr>\n",
              "      <th>7</th>\n",
              "      <td>5.0</td>\n",
              "      <td>3.4</td>\n",
              "      <td>1.5</td>\n",
              "      <td>0.2</td>\n",
              "      <td>0</td>\n",
              "      <td>setosa</td>\n",
              "    </tr>\n",
              "    <tr>\n",
              "      <th>100</th>\n",
              "      <td>6.3</td>\n",
              "      <td>3.3</td>\n",
              "      <td>6.0</td>\n",
              "      <td>2.5</td>\n",
              "      <td>2</td>\n",
              "      <td>virginica</td>\n",
              "    </tr>\n",
              "    <tr>\n",
              "      <th>40</th>\n",
              "      <td>5.0</td>\n",
              "      <td>3.5</td>\n",
              "      <td>1.3</td>\n",
              "      <td>0.3</td>\n",
              "      <td>0</td>\n",
              "      <td>setosa</td>\n",
              "    </tr>\n",
              "    <tr>\n",
              "      <th>86</th>\n",
              "      <td>6.7</td>\n",
              "      <td>3.1</td>\n",
              "      <td>4.7</td>\n",
              "      <td>1.5</td>\n",
              "      <td>1</td>\n",
              "      <td>versicolor</td>\n",
              "    </tr>\n",
              "    <tr>\n",
              "      <th>76</th>\n",
              "      <td>6.8</td>\n",
              "      <td>2.8</td>\n",
              "      <td>4.8</td>\n",
              "      <td>1.4</td>\n",
              "      <td>1</td>\n",
              "      <td>versicolor</td>\n",
              "    </tr>\n",
              "    <tr>\n",
              "      <th>71</th>\n",
              "      <td>6.1</td>\n",
              "      <td>2.8</td>\n",
              "      <td>4.0</td>\n",
              "      <td>1.3</td>\n",
              "      <td>1</td>\n",
              "      <td>versicolor</td>\n",
              "    </tr>\n",
              "  </tbody>\n",
              "</table>\n",
              "</div>"
            ],
            "text/plain": [
              "     sepal length (cm)  sepal width (cm)  ...  target       class\n",
              "114                5.8               2.8  ...       2   virginica\n",
              "62                 6.0               2.2  ...       1  versicolor\n",
              "33                 5.5               4.2  ...       0      setosa\n",
              "107                7.3               2.9  ...       2   virginica\n",
              "7                  5.0               3.4  ...       0      setosa\n",
              "100                6.3               3.3  ...       2   virginica\n",
              "40                 5.0               3.5  ...       0      setosa\n",
              "86                 6.7               3.1  ...       1  versicolor\n",
              "76                 6.8               2.8  ...       1  versicolor\n",
              "71                 6.1               2.8  ...       1  versicolor\n",
              "\n",
              "[10 rows x 6 columns]"
            ]
          },
          "metadata": {
            "tags": []
          },
          "execution_count": 4
        }
      ]
    },
    {
      "cell_type": "markdown",
      "metadata": {
        "id": "HU8yLHccUym_",
        "colab_type": "text"
      },
      "source": [
        "### Question\n",
        "Find the X and y values we're looking for. Notice that y is categorical and thus, we could **one-hot encode it** if we are looking at **class** or we can just pick **target**. In order to one hot encode we have  to re-shape `y` it using the **.get_dummies** function. \n",
        "\n",
        "#### For the purpose of this exercise, do not use hot encoding, go only for target but think about if you have to drop it somewhere or not..."
      ]
    },
    {
      "cell_type": "code",
      "metadata": {
        "id": "gRrLyOECUynA",
        "colab_type": "code",
        "outputId": "c4f9093d-f60a-4aab-c67a-cdfc38f4cf6d",
        "colab": {
          "base_uri": "https://localhost:8080/",
          "height": 221
        }
      },
      "source": [
        "# YOUR CODE HERE\n",
        "X = df.iloc[:, df.columns != 'target']\n",
        "y = df['target']\n",
        "y"
      ],
      "execution_count": 9,
      "outputs": [
        {
          "output_type": "execute_result",
          "data": {
            "text/plain": [
              "0      0\n",
              "1      0\n",
              "2      0\n",
              "3      0\n",
              "4      0\n",
              "      ..\n",
              "145    2\n",
              "146    2\n",
              "147    2\n",
              "148    2\n",
              "149    2\n",
              "Name: target, Length: 150, dtype: int64"
            ]
          },
          "metadata": {
            "tags": []
          },
          "execution_count": 9
        }
      ]
    },
    {
      "cell_type": "markdown",
      "metadata": {
        "id": "xDDa9OZmUynE",
        "colab_type": "text"
      },
      "source": [
        "## Step 2: Setting up supervised learning problem (selecting features)\n",
        "\n",
        "Feature selection is an essential step in improving a model's perfromance. In the first version of the model we will use the 'sepal length' and 'sepal width' as predicting features. Later we will see the effect of adding additional features.\n",
        "\n",
        "1. Assign the values of the 'target' to Y as a numpy array\n",
        "2. Assign the remaining feature values to X as a numpy array\n",
        "3. Check the shape of X and Y. Check the first few values.\n",
        "    - Can we confirm our X and Y are created correctly?"
      ]
    },
    {
      "cell_type": "code",
      "metadata": {
        "id": "-GNEEGV5UynF",
        "colab_type": "code",
        "outputId": "f844feb0-494a-46f7-b742-4b7eba6adfa0",
        "colab": {}
      },
      "source": [
        "#your code here\n"
      ],
      "execution_count": 0,
      "outputs": [
        {
          "output_type": "stream",
          "text": [
            "(150,)\n"
          ],
          "name": "stdout"
        },
        {
          "output_type": "execute_result",
          "data": {
            "text/plain": [
              "array([0, 0, 0, 0, 0])"
            ]
          },
          "metadata": {
            "tags": []
          },
          "execution_count": 16
        }
      ]
    },
    {
      "cell_type": "code",
      "metadata": {
        "id": "6eilvZOqUynI",
        "colab_type": "code",
        "outputId": "d4bcdb0c-d00c-4bb9-e7f3-9a217454262a",
        "colab": {}
      },
      "source": [
        "#your code here\n"
      ],
      "execution_count": 0,
      "outputs": [
        {
          "output_type": "stream",
          "text": [
            "(150, 2)\n"
          ],
          "name": "stdout"
        },
        {
          "output_type": "execute_result",
          "data": {
            "text/plain": [
              "array([[5.1, 3.5],\n",
              "       [4.9, 3. ],\n",
              "       [4.7, 3.2],\n",
              "       [4.6, 3.1],\n",
              "       [5. , 3.6]])"
            ]
          },
          "metadata": {
            "tags": []
          },
          "execution_count": 29
        }
      ]
    },
    {
      "cell_type": "markdown",
      "metadata": {
        "id": "723UCpX_UynM",
        "colab_type": "text"
      },
      "source": [
        "## Step 3: Creating the first model\n",
        "\n",
        "In lecture we learned about creating a train and test datasets, normalizing, and fitting a model. In this step we will see how to build a simple version of this.\n",
        "\n",
        "We have to be careful when constructing our train and test datasets. First, when we create train and test datasets we have to be careful that we always have the same datapoints in each set. Otherwise our results won't be reproduceable or we might introduce a bias into our model.\n",
        "\n",
        "We also need to be attentive to when we normalize the data. What would be the effect of normalizing the data (i.e. with StandardScaler to a range between 0 - 1) before we create our train and test sets? Effectively we would use information in the test set to structure the values in the training set and vice versa. Therefore normalizing train and test independently is the preferred method.\n",
        "\n",
        "1. Create X_train, X_test, Y_train, Y_test using ```train_test_split()``` with an 80/20 train/test split. Look in the SKLearn documentation to understand how the function works.\n",
        "    - Inspect the first few rows of X_train.\n",
        "    - Run the cell a few times. Do the first few rows change?\n",
        "    - What option can we use in ```train_test_split()``` to stop this from happening?\n",
        "2. Normalize the train and test datasets with ```StandardScaler```\n",
        "    - We can fit the transform with ```.fit()``` and ```.transform()``` to apply it. Look in the documentation for an esample of how to do this.\n",
        "    - Does it make sense to normalize Y_train and Y_test?\n",
        "3. Initalize a ```LogisticRegression()``` model and use the ```.fit()``` method to initalize the first model.\n",
        "    - We will pass the X_train and Y_train variables to the ```.fit()``` method.\n",
        "    - Once the model is fit, use the ```.predict()``` with the X_test and save the output as predictions."
      ]
    },
    {
      "cell_type": "code",
      "metadata": {
        "id": "wiGCYSCxUynN",
        "colab_type": "code",
        "outputId": "815474fd-a499-4bc0-dca9-ac8a61eb139f",
        "colab": {}
      },
      "source": [
        "#split train and test data 80/20\n",
        "#your code here\n"
      ],
      "execution_count": 0,
      "outputs": [
        {
          "output_type": "execute_result",
          "data": {
            "text/plain": [
              "array([[4.6, 3.6],\n",
              "       [5.7, 4.4],\n",
              "       [6.7, 3.1],\n",
              "       [4.8, 3.4],\n",
              "       [4.4, 3.2]])"
            ]
          },
          "metadata": {
            "tags": []
          },
          "execution_count": 32
        }
      ]
    },
    {
      "cell_type": "code",
      "metadata": {
        "id": "jGhwPv2iUynR",
        "colab_type": "code",
        "outputId": "768df7eb-79d2-4c37-c493-33e13f2b0acb",
        "colab": {}
      },
      "source": [
        "#normalize the dataset\n",
        "#your code here\n",
        "\n"
      ],
      "execution_count": 0,
      "outputs": [
        {
          "output_type": "execute_result",
          "data": {
            "text/plain": [
              "array([[-1.47393679,  1.20365799],\n",
              "       [-0.13307079,  2.99237573],\n",
              "       [ 1.08589829,  0.08570939],\n",
              "       [-1.23014297,  0.75647855],\n",
              "       [-1.7177306 ,  0.30929911]])"
            ]
          },
          "metadata": {
            "tags": []
          },
          "execution_count": 33
        }
      ]
    },
    {
      "cell_type": "code",
      "metadata": {
        "id": "ObDlHQbjUynV",
        "colab_type": "code",
        "outputId": "c4ce81c2-9abc-47a9-eff2-b19c816f3247",
        "colab": {}
      },
      "source": [
        "#initalize and fit with Logistic Regression\n",
        "#your code here\n",
        "\n"
      ],
      "execution_count": 0,
      "outputs": [
        {
          "output_type": "execute_result",
          "data": {
            "text/plain": [
              "array([1, 0, 2, 1, 2, 0, 1, 2, 1, 1, 2, 0, 0, 0, 0, 2, 2, 1, 1, 2, 0, 1,\n",
              "       0, 2, 2, 2, 2, 2, 0, 0])"
            ]
          },
          "metadata": {
            "tags": []
          },
          "execution_count": 37
        }
      ]
    },
    {
      "cell_type": "markdown",
      "metadata": {
        "id": "txe-Z0_nUynZ",
        "colab_type": "text"
      },
      "source": [
        "## Step 4: Evaluate the frist model's predictions\n",
        "\n",
        "We will learn more about how to evaluate the performance of a classifier in later lessons. For now we will use % accuracy as our metric. It is important to know that this metric only helps us understand the specific performance of our model and not, for example, where we can improve it, or where it already perfoms well.\n",
        "\n",
        "1. Use ```.score()``` to evaluate the performance of our first model."
      ]
    },
    {
      "cell_type": "code",
      "metadata": {
        "id": "gq3e3g4pUyna",
        "colab_type": "code",
        "outputId": "e7b527e6-ec35-4473-e431-d39107259052",
        "colab": {}
      },
      "source": [
        "#evaluating the performace of our first model\n",
        "#your code here\n",
        "\n"
      ],
      "execution_count": 0,
      "outputs": [
        {
          "output_type": "execute_result",
          "data": {
            "text/plain": [
              "0.9"
            ]
          },
          "metadata": {
            "tags": []
          },
          "execution_count": 38
        }
      ]
    },
    {
      "cell_type": "markdown",
      "metadata": {
        "id": "bFJxI5egUyne",
        "colab_type": "text"
      },
      "source": [
        "## Step 5: Crossvalidation of the model\n",
        "Our first model achived ~90% accruacy. This is quite good. How do we know it is reproducable? If we run the model again and our performance is 85% which is correct? And what about improving our model? Can you think of one thing we can do to potentially improve the model?\n",
        "\n",
        "#### Crossvalidation\n",
        "Corssvalidation is when we create multiple X and Y datasets. On each dataset we train and fit the model. We then average the results and return a 'crossvalidated' accruacy.\n",
        "\n",
        "1. Initalize a new version of the model you trained above with the same paramters.\n",
        "2. Use ```cross_validate()``` to run the model with 5 crossvalidation folds. "
      ]
    },
    {
      "cell_type": "code",
      "metadata": {
        "id": "uuFe3M7MUynf",
        "colab_type": "code",
        "outputId": "52abfa23-b53b-48f5-bacc-5c7d663df969",
        "colab": {}
      },
      "source": [
        "#model with cross validation\n",
        "#your code here\n",
        "\n"
      ],
      "execution_count": 0,
      "outputs": [
        {
          "output_type": "stream",
          "text": [
            "Crossvalidation fold: 0  Accruacy: 0.68\n",
            "Crossvalidation fold: 1  Accruacy: 0.8333333333333334\n",
            "Crossvalidation fold: 2  Accruacy: 0.8333333333333334\n",
            "Crossvalidation fold: 3  Accruacy: 0.875\n",
            "Crossvalidation fold: 4  Accruacy: 0.7391304347826086\n",
            "Mean train cross validation score 0.792159420289855\n"
          ],
          "name": "stdout"
        }
      ]
    },
    {
      "cell_type": "markdown",
      "metadata": {
        "id": "4fYDT9jZUynj",
        "colab_type": "text"
      },
      "source": [
        "## Step 6: Creating an end to end ML pipeline\n",
        "Congraulations you've trained, crossvalidated, predicted, and evaluated your frist classifier. Now that you understand the basic steps we will look at a way to combine all these steps together.\n",
        "\n",
        "Before we go further think about what you would have to do if you wanted to change the model. Intalize a new model, change the vairables, redo the cross validation...etc. Seems like a lot. And when we have to change lots of code it is easy to make mistakes. And what if you wanted to try many models and see which one performed best? Or try changing many different features? How could you do it without writing each one out as we have?\n",
        "\n",
        "The solution is to use SKLearn's pipeline class. A pipeline is an object that will execute the various steps in the machine learning process. We can choose what elements we want in the pipeline and those that we do not. Once setup, we can rapidly change models, or input data and have it return our results in an ordered way.\n",
        "\n",
        "\n",
        "1. Initalize a scaler and a classifer object like we did previously.\n",
        "2. Use the ```make_pipeline()``` function to construct a transofmraiton pipeline for the scaler and the classifier\n",
        "3. Input the pipeline object to the cross_validator and evaluate with 5 folds.\n",
        "4. Print out your results (hint: make a function for repetitve tasks like printing)"
      ]
    },
    {
      "cell_type": "code",
      "metadata": {
        "id": "OCluuqleUynk",
        "colab_type": "code",
        "outputId": "4c659af4-f4bc-4e2f-c0fe-86b3f9fcafa2",
        "colab": {}
      },
      "source": [
        "#your code here"
      ],
      "execution_count": 0,
      "outputs": [
        {
          "output_type": "stream",
          "text": [
            "Crossvalidation fold: 0  Accruacy: 0.7333333333333333\n",
            "Crossvalidation fold: 1  Accruacy: 0.8333333333333334\n",
            "Crossvalidation fold: 2  Accruacy: 0.7666666666666667\n",
            "Crossvalidation fold: 3  Accruacy: 0.8666666666666667\n",
            "Crossvalidation fold: 4  Accruacy: 0.8666666666666667\n",
            "Mean train cross validation score 0.8133333333333332\n"
          ],
          "name": "stdout"
        }
      ]
    },
    {
      "cell_type": "markdown",
      "metadata": {
        "id": "eRf4lBr7Uyno",
        "colab_type": "text"
      },
      "source": [
        "## Challenge Exercise\n",
        "\n",
        "In this notebook we only used two features to predict the class of the flower. We also did not do any hypter parameter tuning. The challenge is to impove the prediction results. Some ideas we can try:\n",
        "1. Add features to the input and run the cross validation pipeline\n",
        "2. Investigate how to use ```GridSearchCV```, a powerful funtion that searches through hyperparmetrs and does cross validation.\n",
        "    - Hint: Input the pipeline directly into GridSearchCV\n",
        "3. Try a different models like RandomForest or SVM."
      ]
    },
    {
      "cell_type": "code",
      "metadata": {
        "id": "aynP4xoFUynp",
        "colab_type": "code",
        "colab": {}
      },
      "source": [
        "#your challenge code here"
      ],
      "execution_count": 0,
      "outputs": []
    }
  ]
}