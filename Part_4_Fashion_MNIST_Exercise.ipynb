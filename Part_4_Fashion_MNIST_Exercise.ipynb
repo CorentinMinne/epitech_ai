{
  "nbformat": 4,
  "nbformat_minor": 0,
  "metadata": {
    "kernelspec": {
      "display_name": "Python 3",
      "language": "python",
      "name": "python3"
    },
    "language_info": {
      "codemirror_mode": {
        "name": "ipython",
        "version": 3
      },
      "file_extension": ".py",
      "mimetype": "text/x-python",
      "name": "python",
      "nbconvert_exporter": "python",
      "pygments_lexer": "ipython3",
      "version": "3.6.4"
    },
    "colab": {
      "name": "Part 4 - Fashion-MNIST Exercise.ipynb",
      "provenance": [],
      "include_colab_link": true
    }
  },
  "cells": [
    {
      "cell_type": "markdown",
      "metadata": {
        "id": "view-in-github",
        "colab_type": "text"
      },
      "source": [
        "<a href=\"https://colab.research.google.com/github/CorentinMinne/epitech_ai/blob/master/Part_4_Fashion_MNIST_Exercise.ipynb\" target=\"_parent\"><img src=\"https://colab.research.google.com/assets/colab-badge.svg\" alt=\"Open In Colab\"/></a>"
      ]
    },
    {
      "cell_type": "markdown",
      "metadata": {
        "id": "6lj0aEWPb_iN",
        "colab_type": "text"
      },
      "source": [
        "# Classifying Fashion-MNIST\n",
        "\n",
        "Now it's your turn to build and train a neural network. You'll be using the [Fashion-MNIST dataset](https://github.com/zalandoresearch/fashion-mnist), a drop-in replacement for the MNIST dataset. MNIST is actually quite trivial with neural networks where you can easily achieve better than 97% accuracy. Fashion-MNIST is a set of 28x28 greyscale images of clothes. It's more complex than MNIST, so it's a better representation of the actual performance of your network, and a better representation of datasets you'll use in the real world.\n",
        "\n",
        "<img src='https://github.com/jcllobet/DL_pytorch/blob/master/assets/fashion-mnist-sprite.png?raw=1' width=500px>\n",
        "\n",
        "In this notebook, you'll build your own neural network. For the most part, you could just copy and paste the code from Part 3, but you wouldn't be learning. It's important for you to write the code yourself and get it to work. Feel free to consult the previous notebook though as you work through this.\n",
        "\n",
        "First off, let's load the dataset through torchvision."
      ]
    },
    {
      "cell_type": "code",
      "metadata": {
        "id": "2Ug6aJS9b_iU",
        "colab_type": "code",
        "colab": {}
      },
      "source": [
        "import torch\n",
        "import matplotlib.pyplot as plt\n",
        "import numpy as np\n",
        "from torchvision import datasets, transforms\n",
        "import helper\n",
        "\n",
        "# Define a transform to normalize the data\n",
        "transform = transforms.Compose([transforms.ToTensor(),\n",
        "                                transforms.Normalize((0.5,), (0.5,))])\n",
        "# Download and load the training data\n",
        "trainset = datasets.FashionMNIST('F_MNIST_data/', download=True, train=True, transform=transform)\n",
        "trainloader = torch.utils.data.DataLoader(trainset, batch_size=64, shuffle=True)\n",
        "\n",
        "# Download and load the test data\n",
        "testset = datasets.FashionMNIST('F_MNIST_data/', download=True, train=False, transform=transform)\n",
        "testloader = torch.utils.data.DataLoader(testset, batch_size=64, shuffle=True)"
      ],
      "execution_count": 0,
      "outputs": []
    },
    {
      "cell_type": "markdown",
      "metadata": {
        "id": "VruTSibOb_ig",
        "colab_type": "text"
      },
      "source": [
        "Here we can see one of the images."
      ]
    },
    {
      "cell_type": "code",
      "metadata": {
        "id": "hRwGOscwb_ii",
        "colab_type": "code",
        "outputId": "f8b59fd9-85ea-4405-f7b4-191506dac94d",
        "colab": {
          "base_uri": "https://localhost:8080/",
          "height": 248
        }
      },
      "source": [
        "\n",
        "\n",
        "image, label = next(iter(trainloader))\n",
        "helper.imshow(image[0,:]);"
      ],
      "execution_count": 0,
      "outputs": [
        {
          "output_type": "display_data",
          "data": {
            "image/png": "[encoded data removed]",
            "text/plain": [
              "<Figure size 432x288 with 1 Axes>"
            ]
          },
          "metadata": {
            "tags": []
          }
        }
      ]
    },
    {
      "cell_type": "markdown",
      "metadata": {
        "id": "GOuiNuzOb_iq",
        "colab_type": "text"
      },
      "source": [
        "With the data loaded, it's time to import the necessary packages."
      ]
    },
    {
      "cell_type": "code",
      "metadata": {
        "id": "I6SVRXfpb_it",
        "colab_type": "code",
        "colab": {}
      },
      "source": [
        "%matplotlib inline\n",
        "%config InlineBackend.figure_format = 'retina'\n",
        "\n",
        "import matplotlib.pyplot as plt\n",
        "import numpy as np\n",
        "import time\n",
        "\n",
        "import torch\n",
        "from torch import nn\n",
        "from torch import optim\n",
        "import torch.nn.functional as F\n",
        "from torchvision import datasets, transforms\n",
        "\n",
        "import helper"
      ],
      "execution_count": 0,
      "outputs": []
    },
    {
      "cell_type": "markdown",
      "metadata": {
        "id": "-Yjb8h_Gb_iz",
        "colab_type": "text"
      },
      "source": [
        "## Building the network\n",
        "\n",
        "Here you should define your network. As with MNIST, each image is 28x28 which is a total of 784 pixels, and there are 10 classes. You should include at least one hidden layer. We suggest you use ReLU activations for the layers and to return the logits from the forward pass. It's up to you how many layers you add and the size of those layers."
      ]
    },
    {
      "cell_type": "code",
      "metadata": {
        "id": "dO1zn40xb_i1",
        "colab_type": "code",
        "colab": {}
      },
      "source": [
        "# TODO: Define your network architecture here\n",
        "input_size = 784\n",
        "hidden_sizes = [128, 64]\n",
        "output_size = 10"
      ],
      "execution_count": 0,
      "outputs": []
    },
    {
      "cell_type": "markdown",
      "metadata": {
        "id": "MDm2uIQHb_i_",
        "colab_type": "text"
      },
      "source": [
        "# Train the network\n",
        "\n",
        "Now you should create your network and train it. First you'll want to define [the criterion](http://pytorch.org/docs/master/nn.html#loss-functions) ( something like `nn.CrossEntropyLoss`) and [the optimizer](http://pytorch.org/docs/master/optim.html) (typically `optim.SGD` or `optim.Adam`).\n",
        "\n",
        "Then write the training code. Remember the training pass is a fairly straightforward process:\n",
        "\n",
        "* Make a forward pass through the network to get the logits \n",
        "* Use the logits to calculate the loss\n",
        "* Perform a backward pass through the network with `loss.backward()` to calculate the gradients\n",
        "* Take a step with the optimizer to update the weights\n",
        "\n",
        "By adjusting the hyperparameters (hidden units, learning rate, etc), you should be able to get the training loss below 0.4."
      ]
    },
    {
      "cell_type": "code",
      "metadata": {
        "id": "Ejxg5q2bb_jB",
        "colab_type": "code",
        "colab": {}
      },
      "source": [
        "# TODO: Create the network, define the criterion and optimizer\n",
        "model = nn.Sequential(nn.Linear(input_size, hidden_sizes[0]),\n",
        "                      nn.ReLU(),\n",
        "                      nn.Linear(hidden_sizes[0], hidden_sizes[1]),\n",
        "                      nn.ReLU(),\n",
        "                      nn.Linear(hidden_sizes[1], output_size),\n",
        "                      nn.Softmax(dim=1))\n",
        "\n",
        "criterion = nn.CrossEntropyLoss()\n",
        "optimizer = optim.SGD(model.parameters(), lr=0.01)"
      ],
      "execution_count": 0,
      "outputs": []
    },
    {
      "cell_type": "code",
      "metadata": {
        "id": "Ryz9cjbNb_jH",
        "colab_type": "code",
        "outputId": "31b3c18c-5d0f-44ca-f807-5d6e786f3a2f",
        "colab": {
          "base_uri": "https://localhost:8080/",
          "height": 1000
        }
      },
      "source": [
        "# TODO: Train the network here\n",
        "epochs = 3\n",
        "print_every = 40\n",
        "steps = 0\n",
        "for e in range(epochs):\n",
        "    running_loss = 0\n",
        "    for images, labels in iter(trainloader):\n",
        "        steps += 1\n",
        "        # Flatten MNIST images into a 784 long vector\n",
        "        images.resize_(images.size()[0], 784)\n",
        "        \n",
        "        optimizer.zero_grad()\n",
        "        \n",
        "        # Forward and backward passes\n",
        "        output = model.forward(images)\n",
        "        loss = criterion(output, labels)\n",
        "        loss.backward()\n",
        "        optimizer.step()\n",
        "        \n",
        "        running_loss += loss.item()\n",
        "        \n",
        "        if steps % print_every == 0:\n",
        "            print(\"Epoch: {}/{}... \".format(e+1, epochs),\n",
        "                  \"Loss: {:.4f}\".format(running_loss/print_every))\n",
        "            \n",
        "            running_loss = 0"
      ],
      "execution_count": 0,
      "outputs": [
        {
          "output_type": "stream",
          "text": [
            "Epoch: 1/3...  Loss: 2.3018\n",
            "Epoch: 1/3...  Loss: 2.3001\n",
            "Epoch: 1/3...  Loss: 2.2985\n",
            "Epoch: 1/3...  Loss: 2.2964\n",
            "Epoch: 1/3...  Loss: 2.2939\n",
            "Epoch: 1/3...  Loss: 2.2915\n",
            "Epoch: 1/3...  Loss: 2.2893\n",
            "Epoch: 1/3...  Loss: 2.2874\n",
            "Epoch: 1/3...  Loss: 2.2844\n",
            "Epoch: 1/3...  Loss: 2.2809\n",
            "Epoch: 1/3...  Loss: 2.2762\n",
            "Epoch: 1/3...  Loss: 2.2724\n",
            "Epoch: 1/3...  Loss: 2.2662\n",
            "Epoch: 1/3...  Loss: 2.2597\n",
            "Epoch: 1/3...  Loss: 2.2510\n",
            "Epoch: 1/3...  Loss: 2.2385\n",
            "Epoch: 1/3...  Loss: 2.2312\n",
            "Epoch: 1/3...  Loss: 2.2181\n",
            "Epoch: 1/3...  Loss: 2.2021\n",
            "Epoch: 1/3...  Loss: 2.1936\n",
            "Epoch: 1/3...  Loss: 2.1808\n",
            "Epoch: 1/3...  Loss: 2.1728\n",
            "Epoch: 1/3...  Loss: 2.1619\n",
            "Epoch: 2/3...  Loss: 1.1803\n",
            "Epoch: 2/3...  Loss: 2.1416\n",
            "Epoch: 2/3...  Loss: 2.1271\n",
            "Epoch: 2/3...  Loss: 2.1196\n",
            "Epoch: 2/3...  Loss: 2.1004\n",
            "Epoch: 2/3...  Loss: 2.0850\n",
            "Epoch: 2/3...  Loss: 2.0664\n",
            "Epoch: 2/3...  Loss: 2.0563\n",
            "Epoch: 2/3...  Loss: 2.0557\n",
            "Epoch: 2/3...  Loss: 2.0394\n",
            "Epoch: 2/3...  Loss: 2.0163\n",
            "Epoch: 2/3...  Loss: 2.0152\n",
            "Epoch: 2/3...  Loss: 2.0006\n",
            "Epoch: 2/3...  Loss: 2.0000\n",
            "Epoch: 2/3...  Loss: 1.9966\n",
            "Epoch: 2/3...  Loss: 1.9759\n",
            "Epoch: 2/3...  Loss: 1.9652\n",
            "Epoch: 2/3...  Loss: 1.9677\n",
            "Epoch: 2/3...  Loss: 1.9451\n",
            "Epoch: 2/3...  Loss: 1.9294\n",
            "Epoch: 2/3...  Loss: 1.9317\n",
            "Epoch: 2/3...  Loss: 1.9083\n",
            "Epoch: 2/3...  Loss: 1.8836\n",
            "Epoch: 3/3...  Loss: 0.1868\n",
            "Epoch: 3/3...  Loss: 1.8791\n",
            "Epoch: 3/3...  Loss: 1.8764\n",
            "Epoch: 3/3...  Loss: 1.8685\n",
            "Epoch: 3/3...  Loss: 1.8504\n",
            "Epoch: 3/3...  Loss: 1.8412\n",
            "Epoch: 3/3...  Loss: 1.8482\n",
            "Epoch: 3/3...  Loss: 1.8414\n",
            "Epoch: 3/3...  Loss: 1.8282\n",
            "Epoch: 3/3...  Loss: 1.8181\n",
            "Epoch: 3/3...  Loss: 1.8205\n",
            "Epoch: 3/3...  Loss: 1.8196\n",
            "Epoch: 3/3...  Loss: 1.8256\n",
            "Epoch: 3/3...  Loss: 1.8156\n",
            "Epoch: 3/3...  Loss: 1.8140\n",
            "Epoch: 3/3...  Loss: 1.8200\n",
            "Epoch: 3/3...  Loss: 1.8096\n",
            "Epoch: 3/3...  Loss: 1.8079\n",
            "Epoch: 3/3...  Loss: 1.8133\n",
            "Epoch: 3/3...  Loss: 1.8016\n",
            "Epoch: 3/3...  Loss: 1.8204\n",
            "Epoch: 3/3...  Loss: 1.7925\n",
            "Epoch: 3/3...  Loss: 1.8042\n",
            "Epoch: 3/3...  Loss: 1.8076\n"
          ],
          "name": "stdout"
        }
      ]
    },
    {
      "cell_type": "code",
      "metadata": {
        "id": "lwjVlxxBb_jO",
        "colab_type": "code",
        "outputId": "364a6741-3633-4a7c-89f4-0bd6bd22e547",
        "colab": {
          "base_uri": "https://localhost:8080/",
          "height": 233
        }
      },
      "source": [
        "# Test out your network!\n",
        "\n",
        "dataiter = iter(testloader)\n",
        "images, labels = dataiter.next()\n",
        "img = images[0]\n",
        "# Convert 2D image to 1D vector\n",
        "img = img.resize_(1, 784)\n",
        "logits = model.forward(img)\n",
        "\n",
        "# TODO: Calculate the class probabilities (softmax) for img\n",
        "ps = F.softmax(logits, dim=1)\n",
        "\n",
        "# Plot the image and probabilities\n",
        "helper.view_classify(img.resize_(1, 28, 28), ps, version='Fashion')"
      ],
      "execution_count": 0,
      "outputs": [
        {
          "output_type": "display_data",
          "data": {
            "image/png": "[encoded data removed]",
            "text/plain": [
              "<Figure size 432x648 with 2 Axes>"
            ]
          },
          "metadata": {
            "tags": [],
            "image/png": {
              "width": 424,
              "height": 216
            }
          }
        }
      ]
    },
    {
      "cell_type": "markdown",
      "metadata": {
        "id": "1v1ZXPyFb_jV",
        "colab_type": "text"
      },
      "source": [
        "Now that your network is trained, you'll want to save it to disk so you can load it later instead of training it again. Obviously, it's impractical to train a network every time you need one. In practice, you'll train it once, save the model, then reload it for further training or making predictions. In the next part, I'll show you how to save and load trained models."
      ]
    },
    {
      "cell_type": "code",
      "metadata": {
        "id": "ju-Z0fM3e85_",
        "colab_type": "code",
        "colab": {}
      },
      "source": [
        ""
      ],
      "execution_count": 0,
      "outputs": []
    }
  ]
}